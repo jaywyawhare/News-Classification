{
  "cells": [
    {
      "cell_type": "code",
      "execution_count": 14,
      "metadata": {},
      "outputs": [],
      "source": [
        "import sklearn\n",
        "import pandas as pd\n",
        "import os\n",
        "\n",
        "from nltk.tokenize import word_tokenize\n",
        "from nltk.probability import FreqDist\n",
        "import fasttext\n"
      ]
    },
    {
      "cell_type": "code",
      "execution_count": 15,
      "metadata": {},
      "outputs": [],
      "source": [
        "datapath = '../data/'"
      ]
    },
    {
      "cell_type": "code",
      "execution_count": 16,
      "metadata": {},
      "outputs": [
        {
          "data": {
            "text/plain": [
              "['data.csv', 'somefile.txt', 'data.tsv']"
            ]
          },
          "execution_count": 16,
          "metadata": {},
          "output_type": "execute_result"
        }
      ],
      "source": [
        "os.listdir(datapath)"
      ]
    },
    {
      "cell_type": "code",
      "execution_count": 17,
      "metadata": {},
      "outputs": [],
      "source": [
        "with open( datapath + 'somefile.txt', 'r') as file:\n",
        "    lines = file.readlines()\n",
        "\n",
        "bodies = []\n",
        "Titles = []\n",
        "targets = []\n",
        "\n",
        "for i in range(0, len(lines), 3):\n",
        "    Body = lines[i].strip()\n",
        "    Title = lines[i+1].strip()\n",
        "    target = lines[i+2].strip()\n",
        "\n",
        "    bodies.append(Body)\n",
        "    Titles.append(Title)\n",
        "    targets.append(target)\n",
        "\n",
        "df = pd.DataFrame({'Body': bodies, 'Title': Titles, 'target': targets})\n"
      ]
    },
    {
      "cell_type": "code",
      "execution_count": 18,
      "metadata": {},
      "outputs": [],
      "source": [
        "df.to_csv(datapath + 'data.csv', index=False)\n",
        "df.to_csv(datapath + 'data.tsv', sep='\\t', index=False)"
      ]
    },
    {
      "cell_type": "code",
      "execution_count": 19,
      "metadata": {},
      "outputs": [
        {
          "data": {
            "text/html": [
              "<div>\n",
              "<style scoped>\n",
              "    .dataframe tbody tr th:only-of-type {\n",
              "        vertical-align: middle;\n",
              "    }\n",
              "\n",
              "    .dataframe tbody tr th {\n",
              "        vertical-align: top;\n",
              "    }\n",
              "\n",
              "    .dataframe thead th {\n",
              "        text-align: right;\n",
              "    }\n",
              "</style>\n",
              "<table border=\"1\" class=\"dataframe\">\n",
              "  <thead>\n",
              "    <tr style=\"text-align: right;\">\n",
              "      <th></th>\n",
              "      <th>Body</th>\n",
              "      <th>Title</th>\n",
              "      <th>target</th>\n",
              "    </tr>\n",
              "  </thead>\n",
              "  <tbody>\n",
              "    <tr>\n",
              "      <th>0</th>\n",
              "      <td>A small meteorite crashed into a wooded area i...</td>\n",
              "      <td>Soldier shot, Parliament locked down after gun...</td>\n",
              "      <td>unrelated</td>\n",
              "    </tr>\n",
              "    <tr>\n",
              "      <th>1</th>\n",
              "      <td>A small meteorite crashed into a wooded area i...</td>\n",
              "      <td>Tourist dubbed ‘Spider Man’ after spider burro...</td>\n",
              "      <td>unrelated</td>\n",
              "    </tr>\n",
              "    <tr>\n",
              "      <th>2</th>\n",
              "      <td>A small meteorite crashed into a wooded area i...</td>\n",
              "      <td>Luke Somers 'killed in failed rescue attempt i...</td>\n",
              "      <td>unrelated</td>\n",
              "    </tr>\n",
              "    <tr>\n",
              "      <th>3</th>\n",
              "      <td>A small meteorite crashed into a wooded area i...</td>\n",
              "      <td>BREAKING: Soldier shot at War Memorial in Ottawa</td>\n",
              "      <td>unrelated</td>\n",
              "    </tr>\n",
              "    <tr>\n",
              "      <th>4</th>\n",
              "      <td>A small meteorite crashed into a wooded area i...</td>\n",
              "      <td>Giant 8ft 9in catfish weighing 19 stone caught...</td>\n",
              "      <td>unrelated</td>\n",
              "    </tr>\n",
              "  </tbody>\n",
              "</table>\n",
              "</div>"
            ],
            "text/plain": [
              "                                                Body   \n",
              "0  A small meteorite crashed into a wooded area i...  \\\n",
              "1  A small meteorite crashed into a wooded area i...   \n",
              "2  A small meteorite crashed into a wooded area i...   \n",
              "3  A small meteorite crashed into a wooded area i...   \n",
              "4  A small meteorite crashed into a wooded area i...   \n",
              "\n",
              "                                               Title     target  \n",
              "0  Soldier shot, Parliament locked down after gun...  unrelated  \n",
              "1  Tourist dubbed ‘Spider Man’ after spider burro...  unrelated  \n",
              "2  Luke Somers 'killed in failed rescue attempt i...  unrelated  \n",
              "3   BREAKING: Soldier shot at War Memorial in Ottawa  unrelated  \n",
              "4  Giant 8ft 9in catfish weighing 19 stone caught...  unrelated  "
            ]
          },
          "execution_count": 19,
          "metadata": {},
          "output_type": "execute_result"
        }
      ],
      "source": [
        "df.head()"
      ]
    },
    {
      "cell_type": "code",
      "execution_count": 20,
      "metadata": {},
      "outputs": [],
      "source": [
        "df['Body_tokenized'] = df['Body'].apply(word_tokenize)\n",
        "df['Title_tokenized'] = df['Title'].apply(word_tokenize)"
      ]
    },
    {
      "cell_type": "code",
      "execution_count": 21,
      "metadata": {},
      "outputs": [],
      "source": [
        "df['Body_len'] = df['Body_tokenized'].apply(len)\n",
        "df['Title_len'] = df['Title_tokenized'].apply(len)\n"
      ]
    },
    {
      "cell_type": "code",
      "execution_count": 22,
      "metadata": {},
      "outputs": [],
      "source": [
        "df['Body_freqdist'] = df['Body_tokenized'].apply(FreqDist)\n",
        "df['Title_freqdist'] = df['Title_tokenized'].apply(FreqDist)"
      ]
    },
    {
      "cell_type": "code",
      "execution_count": 23,
      "metadata": {},
      "outputs": [],
      "source": [
        "df['Body_unique_words'] = df['Body_freqdist'].apply(len)\n",
        "df['Title_unique_words'] = df['Title_freqdist'].apply(len)"
      ]
    },
    {
      "cell_type": "code",
      "execution_count": 24,
      "metadata": {},
      "outputs": [
        {
          "data": {
            "text/html": [
              "<div>\n",
              "<style scoped>\n",
              "    .dataframe tbody tr th:only-of-type {\n",
              "        vertical-align: middle;\n",
              "    }\n",
              "\n",
              "    .dataframe tbody tr th {\n",
              "        vertical-align: top;\n",
              "    }\n",
              "\n",
              "    .dataframe thead th {\n",
              "        text-align: right;\n",
              "    }\n",
              "</style>\n",
              "<table border=\"1\" class=\"dataframe\">\n",
              "  <thead>\n",
              "    <tr style=\"text-align: right;\">\n",
              "      <th></th>\n",
              "      <th>Body</th>\n",
              "      <th>Title</th>\n",
              "      <th>target</th>\n",
              "      <th>Body_tokenized</th>\n",
              "      <th>Title_tokenized</th>\n",
              "      <th>Body_len</th>\n",
              "      <th>Title_len</th>\n",
              "      <th>Body_freqdist</th>\n",
              "      <th>Title_freqdist</th>\n",
              "      <th>Body_unique_words</th>\n",
              "      <th>Title_unique_words</th>\n",
              "    </tr>\n",
              "  </thead>\n",
              "  <tbody>\n",
              "    <tr>\n",
              "      <th>0</th>\n",
              "      <td>A small meteorite crashed into a wooded area i...</td>\n",
              "      <td>Soldier shot, Parliament locked down after gun...</td>\n",
              "      <td>unrelated</td>\n",
              "      <td>[A, small, meteorite, crashed, into, a, wooded...</td>\n",
              "      <td>[Soldier, shot, ,, Parliament, locked, down, a...</td>\n",
              "      <td>364</td>\n",
              "      <td>12</td>\n",
              "      <td>{'A': 1, 'small': 2, 'meteorite': 5, 'crashed'...</td>\n",
              "      <td>{'Soldier': 1, 'shot': 1, ',': 1, 'Parliament'...</td>\n",
              "      <td>188</td>\n",
              "      <td>12</td>\n",
              "    </tr>\n",
              "    <tr>\n",
              "      <th>1</th>\n",
              "      <td>A small meteorite crashed into a wooded area i...</td>\n",
              "      <td>Tourist dubbed ‘Spider Man’ after spider burro...</td>\n",
              "      <td>unrelated</td>\n",
              "      <td>[A, small, meteorite, crashed, into, a, wooded...</td>\n",
              "      <td>[Tourist, dubbed, ‘, Spider, Man, ’, after, sp...</td>\n",
              "      <td>364</td>\n",
              "      <td>13</td>\n",
              "      <td>{'A': 1, 'small': 2, 'meteorite': 5, 'crashed'...</td>\n",
              "      <td>{'Tourist': 1, 'dubbed': 1, '‘': 1, 'Spider': ...</td>\n",
              "      <td>188</td>\n",
              "      <td>13</td>\n",
              "    </tr>\n",
              "    <tr>\n",
              "      <th>2</th>\n",
              "      <td>A small meteorite crashed into a wooded area i...</td>\n",
              "      <td>Luke Somers 'killed in failed rescue attempt i...</td>\n",
              "      <td>unrelated</td>\n",
              "      <td>[A, small, meteorite, crashed, into, a, wooded...</td>\n",
              "      <td>[Luke, Somers, 'killed, in, failed, rescue, at...</td>\n",
              "      <td>364</td>\n",
              "      <td>10</td>\n",
              "      <td>{'A': 1, 'small': 2, 'meteorite': 5, 'crashed'...</td>\n",
              "      <td>{'Luke': 1, 'Somers': 1, ''killed': 1, 'in': 2...</td>\n",
              "      <td>188</td>\n",
              "      <td>9</td>\n",
              "    </tr>\n",
              "    <tr>\n",
              "      <th>3</th>\n",
              "      <td>A small meteorite crashed into a wooded area i...</td>\n",
              "      <td>BREAKING: Soldier shot at War Memorial in Ottawa</td>\n",
              "      <td>unrelated</td>\n",
              "      <td>[A, small, meteorite, crashed, into, a, wooded...</td>\n",
              "      <td>[BREAKING, :, Soldier, shot, at, War, Memorial...</td>\n",
              "      <td>364</td>\n",
              "      <td>9</td>\n",
              "      <td>{'A': 1, 'small': 2, 'meteorite': 5, 'crashed'...</td>\n",
              "      <td>{'BREAKING': 1, ':': 1, 'Soldier': 1, 'shot': ...</td>\n",
              "      <td>188</td>\n",
              "      <td>9</td>\n",
              "    </tr>\n",
              "    <tr>\n",
              "      <th>4</th>\n",
              "      <td>A small meteorite crashed into a wooded area i...</td>\n",
              "      <td>Giant 8ft 9in catfish weighing 19 stone caught...</td>\n",
              "      <td>unrelated</td>\n",
              "      <td>[A, small, meteorite, crashed, into, a, wooded...</td>\n",
              "      <td>[Giant, 8ft, 9in, catfish, weighing, 19, stone...</td>\n",
              "      <td>364</td>\n",
              "      <td>24</td>\n",
              "      <td>{'A': 1, 'small': 2, 'meteorite': 5, 'crashed'...</td>\n",
              "      <td>{'Giant': 1, '8ft': 1, '9in': 1, 'catfish': 1,...</td>\n",
              "      <td>188</td>\n",
              "      <td>23</td>\n",
              "    </tr>\n",
              "  </tbody>\n",
              "</table>\n",
              "</div>"
            ],
            "text/plain": [
              "                                                Body   \n",
              "0  A small meteorite crashed into a wooded area i...  \\\n",
              "1  A small meteorite crashed into a wooded area i...   \n",
              "2  A small meteorite crashed into a wooded area i...   \n",
              "3  A small meteorite crashed into a wooded area i...   \n",
              "4  A small meteorite crashed into a wooded area i...   \n",
              "\n",
              "                                               Title     target   \n",
              "0  Soldier shot, Parliament locked down after gun...  unrelated  \\\n",
              "1  Tourist dubbed ‘Spider Man’ after spider burro...  unrelated   \n",
              "2  Luke Somers 'killed in failed rescue attempt i...  unrelated   \n",
              "3   BREAKING: Soldier shot at War Memorial in Ottawa  unrelated   \n",
              "4  Giant 8ft 9in catfish weighing 19 stone caught...  unrelated   \n",
              "\n",
              "                                      Body_tokenized   \n",
              "0  [A, small, meteorite, crashed, into, a, wooded...  \\\n",
              "1  [A, small, meteorite, crashed, into, a, wooded...   \n",
              "2  [A, small, meteorite, crashed, into, a, wooded...   \n",
              "3  [A, small, meteorite, crashed, into, a, wooded...   \n",
              "4  [A, small, meteorite, crashed, into, a, wooded...   \n",
              "\n",
              "                                     Title_tokenized  Body_len  Title_len   \n",
              "0  [Soldier, shot, ,, Parliament, locked, down, a...       364         12  \\\n",
              "1  [Tourist, dubbed, ‘, Spider, Man, ’, after, sp...       364         13   \n",
              "2  [Luke, Somers, 'killed, in, failed, rescue, at...       364         10   \n",
              "3  [BREAKING, :, Soldier, shot, at, War, Memorial...       364          9   \n",
              "4  [Giant, 8ft, 9in, catfish, weighing, 19, stone...       364         24   \n",
              "\n",
              "                                       Body_freqdist   \n",
              "0  {'A': 1, 'small': 2, 'meteorite': 5, 'crashed'...  \\\n",
              "1  {'A': 1, 'small': 2, 'meteorite': 5, 'crashed'...   \n",
              "2  {'A': 1, 'small': 2, 'meteorite': 5, 'crashed'...   \n",
              "3  {'A': 1, 'small': 2, 'meteorite': 5, 'crashed'...   \n",
              "4  {'A': 1, 'small': 2, 'meteorite': 5, 'crashed'...   \n",
              "\n",
              "                                      Title_freqdist  Body_unique_words   \n",
              "0  {'Soldier': 1, 'shot': 1, ',': 1, 'Parliament'...                188  \\\n",
              "1  {'Tourist': 1, 'dubbed': 1, '‘': 1, 'Spider': ...                188   \n",
              "2  {'Luke': 1, 'Somers': 1, ''killed': 1, 'in': 2...                188   \n",
              "3  {'BREAKING': 1, ':': 1, 'Soldier': 1, 'shot': ...                188   \n",
              "4  {'Giant': 1, '8ft': 1, '9in': 1, 'catfish': 1,...                188   \n",
              "\n",
              "   Title_unique_words  \n",
              "0                  12  \n",
              "1                  13  \n",
              "2                   9  \n",
              "3                   9  \n",
              "4                  23  "
            ]
          },
          "execution_count": 24,
          "metadata": {},
          "output_type": "execute_result"
        }
      ],
      "source": [
        "df.head()"
      ]
    }
  ],
  "metadata": {
    "kernelspec": {
      "display_name": "Language",
      "language": "python",
      "name": "python3"
    },
    "language_info": {
      "codemirror_mode": {
        "name": "ipython",
        "version": 3
      },
      "file_extension": ".py",
      "mimetype": "text/x-python",
      "name": "python",
      "nbconvert_exporter": "python",
      "pygments_lexer": "ipython3",
      "version": "3.9.16"
    },
    "orig_nbformat": 4
  },
  "nbformat": 4,
  "nbformat_minor": 2
}
